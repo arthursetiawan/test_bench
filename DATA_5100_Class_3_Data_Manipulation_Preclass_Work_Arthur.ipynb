{
  "nbformat": 4,
  "nbformat_minor": 0,
  "metadata": {
    "colab": {
      "provenance": [],
      "toc_visible": true,
      "collapsed_sections": [],
      "include_colab_link": true
    },
    "kernelspec": {
      "name": "python3",
      "display_name": "Python 3"
    },
    "language_info": {
      "name": "python"
    }
  },
  "cells": [
    {
      "cell_type": "markdown",
      "metadata": {
        "id": "view-in-github",
        "colab_type": "text"
      },
      "source": [
        "<a href=\"https://colab.research.google.com/github/arthursetiawan/test_bench/blob/main/DATA_5100_Class_3_Data_Manipulation_Preclass_Work_Arthur.ipynb\" target=\"_parent\"><img src=\"https://colab.research.google.com/assets/colab-badge.svg\" alt=\"Open In Colab\"/></a>"
      ]
    },
    {
      "cell_type": "markdown",
      "metadata": {
        "id": "ytBfc7NaNAlz"
      },
      "source": [
        "# Instructions"
      ]
    },
    {
      "cell_type": "markdown",
      "metadata": {
        "id": "FDw0hafvNDdv"
      },
      "source": [
        "**Purpose**\n",
        "The purpose of this assignment is to learn how to use `Pandas` to explore a data set.\n",
        "\n",
        "**Task**\n",
        "In this homework, you will analyze data from *Our World in Data* and the *World Bank* on CO$_2$ and other greenhouse gas emissions. The notebook contains a series of questions and tasks that you will answer using `Pandas`. You will watch the tutorial videos on Canvas and follow along to complete the problems here.\n",
        "\n",
        "You will submit your work as a single notebook. I will use `Restart and run all` to run your code. Therefore, you should not include code that does not work in the middle of the notebook. If you are unable to answer a question and want to show your attempted solution, include the non-working code at the end of the notebook."
      ]
    },
    {
      "cell_type": "markdown",
      "source": [
        "# Import libraries"
      ],
      "metadata": {
        "id": "Av8gH1UmMgFv"
      }
    },
    {
      "cell_type": "code",
      "execution_count": null,
      "metadata": {
        "id": "f9-cSwbcMJc7"
      },
      "outputs": [],
      "source": [
        "# Import pandas, numpy, and matplotlib\n",
        "import pandas as pd\n",
        "import numpy as np\n",
        "import matplotlib.pyplot as plt\n",
        "\n",
        "# seaborn is a data visualization library built on matplotlib\n",
        "import seaborn as sns \n",
        "\n",
        "# set the plotting style \n",
        "sns.set_style(\"whitegrid\")"
      ]
    },
    {
      "cell_type": "markdown",
      "source": [
        "# Video 1: Importing and exploring a data set"
      ],
      "metadata": {
        "id": "kqtJZVfasZ5W"
      }
    },
    {
      "cell_type": "markdown",
      "source": [
        "## Import the data set"
      ],
      "metadata": {
        "id": "hrNAfmwpMj2L"
      }
    },
    {
      "cell_type": "markdown",
      "source": [
        "##### $\\rightarrow$ Use Pandas to load the file `owid-co2-data.csv` from https://github.com/owid/co2-data as a `DataFrame`. Name the `DataFrame` `df`."
      ],
      "metadata": {
        "id": "aQxUj8ChtEGr"
      }
    },
    {
      "cell_type": "code",
      "source": [],
      "metadata": {
        "id": "AlaqeLhGM4TG"
      },
      "execution_count": null,
      "outputs": []
    },
    {
      "cell_type": "markdown",
      "source": [
        "## View the contents of the data set"
      ],
      "metadata": {
        "id": "mLLr3HAlM_0N"
      }
    },
    {
      "cell_type": "markdown",
      "source": [
        "##### $\\rightarrow$ Use the `.head()` method to view the data set."
      ],
      "metadata": {
        "id": "T3YQ23R1sx_-"
      }
    },
    {
      "cell_type": "code",
      "source": [],
      "metadata": {
        "id": "uFO-JQyJNBog"
      },
      "execution_count": null,
      "outputs": []
    },
    {
      "cell_type": "markdown",
      "source": [
        "## Basic information about the `DataFrame`"
      ],
      "metadata": {
        "id": "9afJzDTbOGbB"
      }
    },
    {
      "cell_type": "markdown",
      "source": [
        "##### $\\rightarrow$ Use the `.info()` method to show basic information about the data set."
      ],
      "metadata": {
        "id": "cV9-SiAotiFL"
      }
    },
    {
      "cell_type": "code",
      "source": [],
      "metadata": {
        "id": "z0KMim6eNC6E"
      },
      "execution_count": null,
      "outputs": []
    },
    {
      "cell_type": "markdown",
      "source": [
        "### Column names"
      ],
      "metadata": {
        "id": "tsJ5s-rQWMVm"
      }
    },
    {
      "cell_type": "markdown",
      "source": [
        "##### $\\rightarrow$ Use the `columns` attribute to display the column names."
      ],
      "metadata": {
        "id": "sSfgAFBitq1W"
      }
    },
    {
      "cell_type": "code",
      "source": [],
      "metadata": {
        "id": "5uNA5_1KOMY8"
      },
      "execution_count": null,
      "outputs": []
    },
    {
      "cell_type": "markdown",
      "source": [
        "### DataFrame size"
      ],
      "metadata": {
        "id": "z6CxLlbtWOmF"
      }
    },
    {
      "cell_type": "markdown",
      "source": [
        "##### $\\rightarrow$ Determine the size of the `DataFrame` using the shape attribute."
      ],
      "metadata": {
        "id": "9m1nxKmkt3JZ"
      }
    },
    {
      "cell_type": "code",
      "source": [],
      "metadata": {
        "id": "SM_ENeX-V_rV"
      },
      "execution_count": null,
      "outputs": []
    },
    {
      "cell_type": "markdown",
      "source": [
        "# Video 2: Data Indexing and Selection"
      ],
      "metadata": {
        "id": "jbw1fa9Frgy2"
      }
    },
    {
      "cell_type": "markdown",
      "source": [
        "## Select columns of the `DataFrame`"
      ],
      "metadata": {
        "id": "BBTcRvvfyw0O"
      }
    },
    {
      "cell_type": "markdown",
      "source": [
        "### Select one column"
      ],
      "metadata": {
        "id": "DpHQyUxj2-AT"
      }
    },
    {
      "cell_type": "markdown",
      "source": [
        "We will use several methods to select the column containing CO$_2$ emissions."
      ],
      "metadata": {
        "id": "lzCQvte_zCCR"
      }
    },
    {
      "cell_type": "markdown",
      "source": [
        "#### Use dictionary-style indexing"
      ],
      "metadata": {
        "id": "uy5nfFEV5vhq"
      }
    },
    {
      "cell_type": "markdown",
      "source": [
        "##### $\\rightarrow$ Use dictionary-style indexing to select the column containing CO$_2$ emissions and name it `CO2`."
      ],
      "metadata": {
        "id": "T_7_ruEZuRVc"
      }
    },
    {
      "cell_type": "code",
      "source": [],
      "metadata": {
        "id": "nNcxVyE_y65p"
      },
      "execution_count": null,
      "outputs": []
    },
    {
      "cell_type": "markdown",
      "source": [
        "#### Use explicit array-style indexing with loc"
      ],
      "metadata": {
        "id": "BaVDnTNSye-b"
      }
    },
    {
      "cell_type": "markdown",
      "source": [
        "##### $\\rightarrow$ Use explicit indexing with the `.loc` method to select the column containing CO$_2$ emissions and display the `head`."
      ],
      "metadata": {
        "id": "aS1thmnm5Pi9"
      }
    },
    {
      "cell_type": "code",
      "source": [],
      "metadata": {
        "id": "v3BZUjC3yLat"
      },
      "execution_count": null,
      "outputs": []
    },
    {
      "cell_type": "markdown",
      "source": [
        "#### Use implicit indexing with `.iloc`"
      ],
      "metadata": {
        "id": "CEu6oQCy5xjx"
      }
    },
    {
      "cell_type": "markdown",
      "source": [
        "##### $\\rightarrow$ Use implicit indexing with the `.iloc` method to select the column containing CO$_2$ emissions and display the `head`."
      ],
      "metadata": {
        "id": "coYgd4l_uY4I"
      }
    },
    {
      "cell_type": "code",
      "source": [],
      "metadata": {
        "id": "SDF7DsFR4-Y7"
      },
      "execution_count": null,
      "outputs": []
    },
    {
      "cell_type": "markdown",
      "source": [
        "### Select multiple columns"
      ],
      "metadata": {
        "id": "fkfy37TD3CEQ"
      }
    },
    {
      "cell_type": "markdown",
      "source": [
        "##### $\\rightarrow$ Use a list to select the columns containing the country name, the year, and the CO$_2$ emissions. Name it `df_co2`."
      ],
      "metadata": {
        "id": "sVuaL3cqvNlx"
      }
    },
    {
      "cell_type": "code",
      "source": [],
      "metadata": {
        "id": "t9vNwzCQ28xX"
      },
      "execution_count": null,
      "outputs": []
    },
    {
      "cell_type": "markdown",
      "source": [
        "#### Select a range of columns"
      ],
      "metadata": {
        "id": "gLcEXsWnXzrF"
      }
    },
    {
      "cell_type": "markdown",
      "source": [
        "##### $\\rightarrow$ Use a slice and the `.loc` method to select the columns between the country name and the CO$_2$ emissions. "
      ],
      "metadata": {
        "id": "cqefM7Sxz3an"
      }
    },
    {
      "cell_type": "code",
      "source": [],
      "metadata": {
        "id": "nNTdZgRfXVZD"
      },
      "execution_count": null,
      "outputs": []
    },
    {
      "cell_type": "markdown",
      "source": [
        "## Select rows of the `DataFrame`"
      ],
      "metadata": {
        "id": "xzNE6J2421ZH"
      }
    },
    {
      "cell_type": "markdown",
      "source": [
        "### Select the first $n$ rows"
      ],
      "metadata": {
        "id": "KHme4XUXdIBa"
      }
    },
    {
      "cell_type": "markdown",
      "source": [
        "##### $\\rightarrow$ Use the `.head()` method to select the first 3 rows of `df_co2`"
      ],
      "metadata": {
        "id": "YhskQB9oe-ce"
      }
    },
    {
      "cell_type": "code",
      "source": [],
      "metadata": {
        "id": "Rs7XgbS1e9r0"
      },
      "execution_count": null,
      "outputs": []
    },
    {
      "cell_type": "markdown",
      "source": [
        "##### $\\rightarrow$ Use implicit indexing to select the first 3 rows"
      ],
      "metadata": {
        "id": "Wcuf0QrhZR49"
      }
    },
    {
      "cell_type": "code",
      "source": [],
      "metadata": {
        "id": "GY3CVvvK-91y"
      },
      "execution_count": null,
      "outputs": []
    },
    {
      "cell_type": "markdown",
      "source": [
        "##### $\\rightarrow$ Use explicit indexing to select the first 3 rows"
      ],
      "metadata": {
        "id": "a0btb4nKZQnS"
      }
    },
    {
      "cell_type": "code",
      "source": [],
      "metadata": {
        "id": "hKXXb2bA-rvq"
      },
      "execution_count": null,
      "outputs": []
    },
    {
      "cell_type": "markdown",
      "source": [
        "### Select the last $n$ rows"
      ],
      "metadata": {
        "id": "KtVTDD7rpQrF"
      }
    },
    {
      "cell_type": "markdown",
      "source": [
        "##### $\\rightarrow$ Use the `.tail()` method to select the last 3 rows of `df_co2`"
      ],
      "metadata": {
        "id": "WJ0TD2nOpQrO"
      }
    },
    {
      "cell_type": "code",
      "source": [],
      "metadata": {
        "id": "uCHGEjHzpQrP"
      },
      "execution_count": null,
      "outputs": []
    },
    {
      "cell_type": "markdown",
      "source": [
        "##### $\\rightarrow$ Use implicit indexing to select the last 3 rows"
      ],
      "metadata": {
        "id": "yvpePT8-pQrQ"
      }
    },
    {
      "cell_type": "code",
      "source": [],
      "metadata": {
        "id": "_etRi6ZRpQrR"
      },
      "execution_count": null,
      "outputs": []
    },
    {
      "cell_type": "markdown",
      "source": [
        "##### $\\rightarrow$ Use explicit indexing to select the last 3 rows"
      ],
      "metadata": {
        "id": "Ww_y64wFpQrR"
      }
    },
    {
      "cell_type": "code",
      "source": [],
      "metadata": {
        "id": "10u-L2jdpQrS"
      },
      "execution_count": null,
      "outputs": []
    },
    {
      "cell_type": "markdown",
      "source": [
        "### Select several intermediate rows of the `DataFrame`"
      ],
      "metadata": {
        "id": "zKQpuXhz-l6G"
      }
    },
    {
      "cell_type": "markdown",
      "source": [
        "View the `head` of the `DataFrame` to highlight the second through fourth rows of `df_co2`"
      ],
      "metadata": {
        "id": "twPyjx8Gq7Zw"
      }
    },
    {
      "cell_type": "code",
      "source": [],
      "metadata": {
        "id": "9IUgRHrJrlCg"
      },
      "execution_count": null,
      "outputs": []
    },
    {
      "cell_type": "markdown",
      "source": [
        "##### $\\rightarrow$ Use implicit indexing to select the second through fourth rows"
      ],
      "metadata": {
        "id": "gk3CnLZNq6DM"
      }
    },
    {
      "cell_type": "code",
      "source": [],
      "metadata": {
        "id": "2TpyYKH_q6DN"
      },
      "execution_count": null,
      "outputs": []
    },
    {
      "cell_type": "markdown",
      "source": [
        "##### $\\rightarrow$ Use explicit indexing to select the second through fourth rows"
      ],
      "metadata": {
        "id": "YakJo-3nq6DN"
      }
    },
    {
      "cell_type": "code",
      "source": [],
      "metadata": {
        "id": "DlWtC_qRq6DN"
      },
      "execution_count": null,
      "outputs": []
    },
    {
      "cell_type": "markdown",
      "source": [
        "### Select rows using logical indexing"
      ],
      "metadata": {
        "id": "vjQwc6U2eudp"
      }
    },
    {
      "cell_type": "markdown",
      "source": [
        "##### $\\rightarrow$ Select the rows corresponding to Canada and the United States of `df_co2`"
      ],
      "metadata": {
        "id": "8KtJZKYyp8CH"
      }
    },
    {
      "cell_type": "code",
      "source": [],
      "metadata": {
        "id": "LpnD-QoO1n7R"
      },
      "execution_count": null,
      "outputs": []
    },
    {
      "cell_type": "markdown",
      "source": [
        "Examine the countries present in the data set"
      ],
      "metadata": {
        "id": "5JAFspgNj82b"
      }
    },
    {
      "cell_type": "code",
      "source": [
        "df_co2['country'].unique()"
      ],
      "metadata": {
        "id": "sBAzXdSWkBGZ"
      },
      "execution_count": null,
      "outputs": []
    },
    {
      "cell_type": "markdown",
      "source": [
        "Create a list of the values of the `country` column that are not individual countries"
      ],
      "metadata": {
        "id": "0xW3Eu7s3pcV"
      }
    },
    {
      "cell_type": "code",
      "source": [
        "omit_locations = ['Africa', 'Asia', 'Asia (excl. China & India)','EU-27',\n",
        "                  'Europe', 'Europe (excl. EU-27)',\n",
        "                  'Europe (excl. EU-28)', 'European Union (27)', \n",
        "                  'European Union (28)', 'French Equatorial Africa', \n",
        "                  'French Guiana', 'French Polynesia', 'French West Africa',\n",
        "                  'High-income countries', 'International transport', \n",
        "                  'Low-income countries', 'Lower-middle-income countries',\n",
        "                  'North America',  'North America (excl. USA)', 'Oceania', \n",
        "                  'Panama Canal Zone','South America', 'Upper-middle-income countries', \n",
        "                  'World']"
      ],
      "metadata": {
        "id": "eD0vOVGQkTHq"
      },
      "execution_count": null,
      "outputs": []
    },
    {
      "cell_type": "markdown",
      "source": [
        "##### $\\rightarrow$ Select the rows of `df_co2` corresponding to individual countries using the `.loc` attribute"
      ],
      "metadata": {
        "id": "oQvGwApO35VP"
      }
    },
    {
      "cell_type": "code",
      "source": [],
      "metadata": {
        "id": "lQ7dJnuckWeA"
      },
      "execution_count": null,
      "outputs": []
    },
    {
      "cell_type": "markdown",
      "source": [
        "# Video 3: Sorting"
      ],
      "metadata": {
        "id": "k1ohKoqxrnVO"
      }
    },
    {
      "cell_type": "markdown",
      "source": [
        "##### $\\rightarrow$ Select the `country` and `co2_per_capita` columns for the year 1964 and the `country` values that are not groups of countries."
      ],
      "metadata": {
        "id": "FJ5reKbMOsgr"
      }
    },
    {
      "cell_type": "code",
      "source": [],
      "metadata": {
        "id": "SGqrrcd5Bq_E"
      },
      "execution_count": null,
      "outputs": []
    },
    {
      "cell_type": "markdown",
      "source": [
        "## Use numerical summaries to find min and max"
      ],
      "metadata": {
        "id": "H3vOhYEG79N0"
      }
    },
    {
      "cell_type": "markdown",
      "source": [
        "### Using the .describe() method"
      ],
      "metadata": {
        "id": "k-b_iD-Z2CaY"
      }
    },
    {
      "cell_type": "markdown",
      "source": [
        "##### $\\rightarrow$ Use the `.describe()` method to find the mininum and maximum CO$_2$ emissions per capita in 1964."
      ],
      "metadata": {
        "id": "i_S1Oivj4M8M"
      }
    },
    {
      "cell_type": "code",
      "source": [],
      "metadata": {
        "id": "nxNW7RtC8uAz"
      },
      "execution_count": null,
      "outputs": []
    },
    {
      "cell_type": "markdown",
      "source": [
        "### Using aggregation"
      ],
      "metadata": {
        "id": "OHjES9Lb2H9N"
      }
    },
    {
      "cell_type": "markdown",
      "source": [
        "##### $\\rightarrow$ Use the `.agg()` method to find the mininum and maximum CO$_2$ emissions per capita in 1964."
      ],
      "metadata": {
        "id": "BNIrPi2_4ZPs"
      }
    },
    {
      "cell_type": "code",
      "source": [],
      "metadata": {
        "id": "WiwQPmc584OZ"
      },
      "execution_count": null,
      "outputs": []
    },
    {
      "cell_type": "markdown",
      "source": [
        "The min and max are computed for each column. Afghanistan and Zimbabwe are not the min and max emitters."
      ],
      "metadata": {
        "id": "HBkKqSJ1COnc"
      }
    },
    {
      "cell_type": "code",
      "source": [],
      "metadata": {
        "id": "QmlBjXYaCAOa"
      },
      "execution_count": null,
      "outputs": []
    },
    {
      "cell_type": "markdown",
      "source": [
        "## Sort values to find highest emitters"
      ],
      "metadata": {
        "id": "hgLxNaW9BeHv"
      }
    },
    {
      "cell_type": "markdown",
      "source": [
        "##### $\\rightarrow$ Sort `df_1964` in descending order according to `co2_per_capita` to find the 10 highest CO$_2$ emissions per capita in 1964."
      ],
      "metadata": {
        "id": "cLxe43rb4dzg"
      }
    },
    {
      "cell_type": "code",
      "source": [],
      "metadata": {
        "id": "tDMtPd3Y9BOP"
      },
      "execution_count": null,
      "outputs": []
    },
    {
      "cell_type": "markdown",
      "source": [
        "## Sort values to find lowest emitters"
      ],
      "metadata": {
        "id": "6yqfW3piDr5j"
      }
    },
    {
      "cell_type": "markdown",
      "source": [
        "##### $\\rightarrow$ Sort `df_1964` in ascending order according to `co2_per_capita` to find the 10 lowest CO$_2$ emissions per capita in 1964."
      ],
      "metadata": {
        "id": "08IFMHmE4uCa"
      }
    },
    {
      "cell_type": "code",
      "source": [],
      "metadata": {
        "id": "0nIFZpS4DtEa"
      },
      "execution_count": null,
      "outputs": []
    },
    {
      "cell_type": "markdown",
      "source": [
        "We do not use the tail of the descending list because of `NaN`s"
      ],
      "metadata": {
        "id": "xUosa1kVGZbs"
      }
    },
    {
      "cell_type": "code",
      "source": [],
      "metadata": {
        "id": "Q2g9DRibDvxX"
      },
      "execution_count": null,
      "outputs": []
    },
    {
      "cell_type": "markdown",
      "source": [
        "# Video 4: Long/Tidy and Wide data formats"
      ],
      "metadata": {
        "id": "0yoLnKVuvZQp"
      }
    },
    {
      "cell_type": "markdown",
      "source": [
        "![](https://d33wubrfki0l68.cloudfront.net/6f1ddb544fc5c69a2478e444ab8112fb0eea23f8/91adc/images/tidy-1.png)\n",
        "\n",
        "https://r4ds.had.co.nz/tidy-data.html"
      ],
      "metadata": {
        "id": "-ZDFWStUt3UX"
      }
    },
    {
      "cell_type": "markdown",
      "source": [
        "##### $\\rightarrow$ View the `head` of the `DataFrame` `df` to determine whether it is in tidy (long) or wide format."
      ],
      "metadata": {
        "id": "OMueALQy47I6"
      }
    },
    {
      "cell_type": "code",
      "source": [],
      "metadata": {
        "id": "Qn2iX1HnyX4U"
      },
      "execution_count": null,
      "outputs": []
    },
    {
      "cell_type": "markdown",
      "source": [
        "## Import and examine the CO$_2$ emissions data set from the World Bank"
      ],
      "metadata": {
        "id": "WRk4E-_OvuGR"
      }
    },
    {
      "cell_type": "markdown",
      "source": [
        "We will now examine a different CO$_2$ emission data set from The World Bank. This data set has estimates of CO$_2$ emissions (in metric tons per person) from 1960 to 2018.\n",
        "\n",
        "You can read more about this data set at https://data.worldbank.org/indicator/EN.ATM.CO2E.PC"
      ],
      "metadata": {
        "id": "UXraaHJ15qc0"
      }
    },
    {
      "cell_type": "code",
      "source": [
        "df = pd.read_csv('https://raw.githubusercontent.com/brian-fischer/DATA-5100/main/CO2Emissions1960to2018.csv')"
      ],
      "metadata": {
        "id": "8kd4O3HdvuGT"
      },
      "execution_count": null,
      "outputs": []
    },
    {
      "cell_type": "markdown",
      "source": [
        "##### $\\rightarrow$ View the `head` of the `DataFrame` `df` to determine whether it is in tidy (long) or wide format."
      ],
      "metadata": {
        "id": "ZX0SbnRr7z5d"
      }
    },
    {
      "cell_type": "code",
      "source": [],
      "metadata": {
        "id": "1tNyVLCr_Xtx"
      },
      "execution_count": null,
      "outputs": []
    },
    {
      "cell_type": "markdown",
      "source": [
        "## Convert from wide to tidy format"
      ],
      "metadata": {
        "id": "pmM-qkHmay67"
      }
    },
    {
      "cell_type": "markdown",
      "source": [
        "##### $\\rightarrow$ Use the Pandas `melt` function to convert this `DataFrame` from wide to tidy format by creating one column of the year and one column of CO$_2$ emissions. Name the `DataFrame` `df_tidy`."
      ],
      "metadata": {
        "id": "GdKpvV7f8Ets"
      }
    },
    {
      "cell_type": "code",
      "source": [],
      "metadata": {
        "id": "pqv5Sifq_XTN"
      },
      "execution_count": null,
      "outputs": []
    },
    {
      "cell_type": "markdown",
      "source": [
        "##### $\\rightarrow$ Use the `.info()` method to determine the data types of the `year` and `co2` columns. Are they the desired types?"
      ],
      "metadata": {
        "id": "Jo2eFiXw8tXv"
      }
    },
    {
      "cell_type": "code",
      "source": [],
      "metadata": {
        "id": "oGNI3ADP_Wxq"
      },
      "execution_count": null,
      "outputs": []
    },
    {
      "cell_type": "markdown",
      "source": [
        "### Covert data types if necessary"
      ],
      "metadata": {
        "id": "AaxUFHGXdFRA"
      }
    },
    {
      "cell_type": "markdown",
      "source": [
        "##### $\\rightarrow$ Convert the `year` column to an `int` data type"
      ],
      "metadata": {
        "id": "wzYCcY4z9SKo"
      }
    },
    {
      "cell_type": "code",
      "source": [],
      "metadata": {
        "id": "TouJeLDl_WHs"
      },
      "execution_count": null,
      "outputs": []
    },
    {
      "cell_type": "markdown",
      "source": [
        "## Operations with wide and tidy formats"
      ],
      "metadata": {
        "id": "3btcd4LKeH-m"
      }
    },
    {
      "cell_type": "markdown",
      "source": [
        "### Numerical summaries"
      ],
      "metadata": {
        "id": "5l8JD8L8eMec"
      }
    },
    {
      "cell_type": "markdown",
      "source": [
        "Compute descriptive summary statistics for CO$_2$ emissions each year."
      ],
      "metadata": {
        "id": "2A8U8fSKePSJ"
      }
    },
    {
      "cell_type": "markdown",
      "source": [
        "**Wide Format**"
      ],
      "metadata": {
        "id": "Ok4S6WPYet22"
      }
    },
    {
      "cell_type": "markdown",
      "source": [
        "##### $\\rightarrow$ Use the `.describe()` method to compute summary statistics for CO$_2$ emissions in each year for the `DataFrame` in wide format."
      ],
      "metadata": {
        "id": "ucnPwlyCBqrz"
      }
    },
    {
      "cell_type": "code",
      "source": [],
      "metadata": {
        "id": "PMrkYz-4cxPI"
      },
      "execution_count": null,
      "outputs": []
    },
    {
      "cell_type": "markdown",
      "source": [
        "**Tidy Format**"
      ],
      "metadata": {
        "id": "l63YQrs2ezHU"
      }
    },
    {
      "cell_type": "markdown",
      "source": [
        "##### $\\rightarrow$ Use the `.describe()` method to compute summary statistics for CO$_2$ emissions in each year for the `DataFrame` in tidy format."
      ],
      "metadata": {
        "id": "SlJ4AhhfB635"
      }
    },
    {
      "cell_type": "code",
      "source": [],
      "metadata": {
        "id": "vK8GLt7JeONK"
      },
      "execution_count": null,
      "outputs": []
    },
    {
      "cell_type": "markdown",
      "source": [
        "### Plots"
      ],
      "metadata": {
        "id": "tGzycX-GfYcR"
      }
    },
    {
      "cell_type": "markdown",
      "source": [
        "#### Comparative boxplots"
      ],
      "metadata": {
        "id": "nc5PFitywaz6"
      }
    },
    {
      "cell_type": "markdown",
      "source": [
        "##### $\\rightarrow$ Produce comparative boxplots for CO$_2$ emissions in each year for the wide and tidy `DataFrames`."
      ],
      "metadata": {
        "id": "L-mOZ2-QCASG"
      }
    },
    {
      "cell_type": "code",
      "source": [],
      "metadata": {
        "id": "6ZcuYrHcvq_z"
      },
      "execution_count": null,
      "outputs": []
    },
    {
      "cell_type": "markdown",
      "source": [
        "#### Line plot"
      ],
      "metadata": {
        "id": "jkCGE8BHwfQF"
      }
    },
    {
      "cell_type": "markdown",
      "source": [
        "**Tidy format**"
      ],
      "metadata": {
        "id": "3kMT-IDLwjTK"
      }
    },
    {
      "cell_type": "markdown",
      "source": [
        "##### $\\rightarrow$ Produce line plots of CO$_2$ emissions over year for Saudi Arabia and the United States for the `DataFrame` in tidy format."
      ],
      "metadata": {
        "id": "XmnxaG4hCNah"
      }
    },
    {
      "cell_type": "code",
      "source": [],
      "metadata": {
        "id": "eEjtjezdf4iH"
      },
      "execution_count": null,
      "outputs": []
    }
  ]
}